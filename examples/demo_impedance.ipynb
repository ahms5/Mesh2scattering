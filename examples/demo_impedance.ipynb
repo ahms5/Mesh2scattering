{
 "cells": [
  {
   "attachments": {},
   "cell_type": "markdown",
   "metadata": {},
   "source": [
    "# impedance measurement based on Mommertz Correlation method\n",
    "Please note that this is not a Python tutorial. We assume that you are aware of basic Python coding and concepts including the use of ``conda`` and ``pip``. If you did not install pyfar already please do so by running the command\n",
    "\n",
    "``pip install mesh2scattering``\n",
    "\n",
    "After this go to your Python editor of choice and import mesh2scattering. We will also import a couple of other things, which we will need later.\n"
   ]
  },
  {
   "cell_type": "code",
   "execution_count": null,
   "metadata": {},
   "outputs": [],
   "source": [
    "import mesh2scattering as m2s\n",
    "import pyfar as pf\n",
    "import os\n",
    "import numpy as np\n",
    "import matplotlib.pyplot as plt\n",
    "import trimesh\n",
    "import sofar as sf\n",
    "# %matplotlib ipympl\n"
   ]
  },
  {
   "cell_type": "markdown",
   "metadata": {},
   "source": [
    "The correlation method by Mommertz can calculate the scattering coefficient (or the specular reflection factor) based on the reflected sound pressure of finite surfaces with same outer dimensions:\n",
    "- p_0 the reference surface of s sound hard flat circular sample\n",
    "- p_1 the sample surface under investigation \n",
    "\n",
    "```\n",
    "E. Mommertz, “Determination of scattering coefficients from the reflection directivity of architectural surfaces,” Applied Acoustics, vol. 60, no. 2, pp. 201–203, Jun. 2000, doi: 10.1016/S0003-682X(99)00057-2.\n",
    "```\n",
    "\n",
    "In this example we will use the same flat surface for both pressure, but for the sample surface we define a custom impedance, and we hope to get that at the end of the Mommertz correlation method."
   ]
  },
  {
   "attachments": {},
   "cell_type": "markdown",
   "metadata": {},
   "source": [
    "# create the project"
   ]
  },
  {
   "attachments": {},
   "cell_type": "markdown",
   "metadata": {},
   "source": [
    "first we need the meshes to simulate $p_0$ and $p_1$. We set the path of the meshes, we will use the flat reference surface for both, but we will set a custom surface impedance for the sample mesh. Please notice that the sample should lay on the x-y-plane where z is the hight."
   ]
  },
  {
   "cell_type": "code",
   "execution_count": null,
   "metadata": {},
   "outputs": [],
   "source": [
    "sample_path = os.path.join('meshes', 'reference_n10_1', 'sample.stl')\n",
    "reference_path = os.path.join('meshes', 'reference_n10_1', 'sample.stl')\n",
    "project_path = os.path.join(os.getcwd(), 'project_impedance')\n",
    "if not os.path.isdir(project_path):\n",
    "    os.mkdir(project_path)"
   ]
  },
  {
   "attachments": {},
   "cell_type": "markdown",
   "metadata": {},
   "source": [
    "Define the frequency array. For simplicity we just use 4 frequencies. \n",
    "If you want to create 3rd- or 1st octave band frequencies have a look on ``pyfar.dsp.filter.fractional_octave_frequencies``."
   ]
  },
  {
   "cell_type": "code",
   "execution_count": null,
   "metadata": {},
   "outputs": [],
   "source": [
    "frequencies = np.array([500, 1000, 2000, 3000, 4000])"
   ]
  },
  {
   "attachments": {},
   "cell_type": "markdown",
   "metadata": {},
   "source": [
    "Now we need to define the source and receiver positions. Therefore we create a sampling grid, including the pole and removing the lower part of the spherical grid."
   ]
  },
  {
   "cell_type": "code",
   "execution_count": null,
   "metadata": {},
   "outputs": [],
   "source": [
    "receiver_radius = 80\n",
    "receiverPoints = pf.samplings.sph_gaussian(\n",
    "    sh_order=101, radius=receiver_radius)\n",
    "receiverPoints = receiverPoints[receiverPoints.colatitude < np.pi/2]\n",
    "receiverPoints.show()\n",
    "plt.show()"
   ]
  },
  {
   "cell_type": "markdown",
   "metadata": {},
   "source": [
    "The receiver positions can now go into its related class. The class requires faces, but they can be simply calculated by the class by using ``from_spherical``."
   ]
  },
  {
   "cell_type": "code",
   "execution_count": null,
   "metadata": {},
   "outputs": [],
   "source": [
    "evaluation_grid = m2s.input.EvaluationGrid.from_spherical(\n",
    "    receiverPoints, 'grid')"
   ]
  },
  {
   "attachments": {},
   "cell_type": "markdown",
   "metadata": {},
   "source": [
    "Same for the source positions. The radius does not matter here, because we will use plane wave incident."
   ]
  },
  {
   "cell_type": "code",
   "execution_count": null,
   "metadata": {},
   "outputs": [],
   "source": [
    "source_radius = 10\n",
    "sourcePoints = pf.Coordinates.from_spherical_colatitude(\n",
    "    0, np.arange(0, 90, 10)*np.pi/180, source_radius)\n",
    "sourcePoints.weights = np.cos(sourcePoints.elevation)\n",
    "plt.figure()\n",
    "sourcePoints.show()\n",
    "plt.show()"
   ]
  },
  {
   "attachments": {},
   "cell_type": "markdown",
   "metadata": {},
   "source": [
    "Now we need to set the parameters of the sample. "
   ]
  },
  {
   "cell_type": "code",
   "execution_count": null,
   "metadata": {},
   "outputs": [],
   "source": [
    "structural_wavelength = 0\n",
    "sample_diameter = 0.8\n",
    "model_scale = 1\n",
    "sample_baseplate_hight = 0.01"
   ]
  },
  {
   "attachments": {},
   "cell_type": "markdown",
   "metadata": {},
   "source": [
    "Furthermore we need to define the symmetry properties of the sample. In our case it is rotationally symmetric, for both surfaces."
   ]
  },
  {
   "cell_type": "code",
   "execution_count": null,
   "metadata": {},
   "outputs": [],
   "source": [
    "symmetry_azimuth = []\n",
    "symmetry_rotational = True"
   ]
  },
  {
   "cell_type": "markdown",
   "metadata": {},
   "source": [
    "Lets collect all the metadata of the sample and the surface into the related class object.\n",
    "The meta data will not influence the simulation or postprocessing, they are just collected and exported in the sofa file at the end."
   ]
  },
  {
   "cell_type": "code",
   "execution_count": null,
   "metadata": {},
   "outputs": [],
   "source": [
    "impedance_description = m2s.input.SurfaceDescription(\n",
    "    structural_wavelength_x=structural_wavelength,\n",
    "    structural_wavelength_y=0,\n",
    "    structural_depth=0,\n",
    "    surface_type=m2s.input.SurfaceType.PERIODIC,\n",
    "    symmetry_azimuth=symmetry_azimuth,\n",
    "    symmetry_rotational=symmetry_rotational,\n",
    ")\n",
    "\n",
    "reference_description = m2s.input.SurfaceDescription(\n",
    "    structural_wavelength_x=0,\n",
    "    structural_wavelength_y=0,\n",
    "    structural_depth=0,\n",
    "    surface_type=m2s.input.SurfaceType.FLAT,\n",
    "    symmetry_azimuth=[],\n",
    "    symmetry_rotational=True,\n",
    ")\n"
   ]
  },
  {
   "cell_type": "markdown",
   "metadata": {},
   "source": [
    "The normalized impedance is defined as $Z_n = Z/(rho_0*c)$, where Z is the surface impedance and $rho_0*c$ are the density of air and the speed of sound. We defines $Z_n=4$ here. which results in a reflection factor of $R=(Z_n - 1)/(Z_n + 1)=0.6$."
   ]
  },
  {
   "cell_type": "code",
   "execution_count": null,
   "metadata": {},
   "outputs": [],
   "source": [
    "sample_mesh = trimesh.load(sample_path)\n",
    "n_faces = sample_mesh.faces.shape[0]\n",
    "alpha = 0.5  # Absorption coefficient\n",
    "R= np.sqrt(1-alpha)\n",
    "Z_n = 4\n",
    "R = (Z_n - 1)/(Z_n + 1)\n",
    "alpha = 1 - np.abs(R)**2\n",
    "print(f'Z: {Z_n}; alpha: {alpha}, R: {R}')"
   ]
  },
  {
   "cell_type": "markdown",
   "metadata": {},
   "source": [
    "We define a boundary condition as impedance for all frequencies and add the impedance to the upper surface of the mesh."
   ]
  },
  {
   "cell_type": "code",
   "execution_count": null,
   "metadata": {},
   "outputs": [],
   "source": [
    "bc = m2s.input.bc.BoundaryCondition(\n",
    "    Z_n,\n",
    "    m2s.input.bc.BoundaryConditionType.impedance,\n",
    ")\n",
    "normals_z = sample_mesh.face_normals[:, 2]\n",
    "mask = normals_z > .9\n",
    "\n",
    "indexes = np.where(mask)[0]\n",
    "assert all(np.abs(np.diff(indexes)-1) < 1e-5)\n",
    "bcm = m2s.input.bc.BoundaryConditionMapping(n_faces)\n",
    "print(np.min(indexes))\n",
    "bcm.apply_material(\n",
    "    bc, int(np.min(indexes)), int(np.max(indexes)), # Apply to upper surface\n",
    ")\n",
    "# bcm.apply_material(\n",
    "#     bc, 0, len(normals_z)-1, # Apply to upper surface\n",
    "# )"
   ]
  },
  {
   "cell_type": "markdown",
   "metadata": {},
   "source": [
    "Lets have a look at the mesh and its material assignment. Red indicates the custom impedance and grey the sound hard surface."
   ]
  },
  {
   "cell_type": "code",
   "execution_count": null,
   "metadata": {},
   "outputs": [],
   "source": [
    "%matplotlib ipympl\n",
    "fig = plt.figure()\n",
    "ax = fig.add_subplot(111, projection='3d')\n",
    "ax.plot_trisurf(\n",
    "    sample_mesh.vertices[:, 0], sample_mesh.vertices[:,1],\n",
    "    triangles=sample_mesh.faces[mask],\n",
    "    Z=sample_mesh.vertices[:,2], color='red')\n",
    "ax.plot_trisurf(\n",
    "    sample_mesh.vertices[:, 0], sample_mesh.vertices[:,1],\n",
    "    triangles=sample_mesh.faces[False==mask],\n",
    "    Z=sample_mesh.vertices[:,2], color='black')\n",
    "ax.set_aspect('equal')\n",
    "plt.show()"
   ]
  },
  {
   "cell_type": "markdown",
   "metadata": {},
   "source": [
    "now we combine the mesh, impedance and the surface information into SampleMesh object for both simulations."
   ]
  },
  {
   "cell_type": "code",
   "execution_count": null,
   "metadata": {},
   "outputs": [],
   "source": [
    "\n",
    "mesh_impedance = m2s.input.SampleMesh(\n",
    "    mesh=sample_mesh,\n",
    "    surface_description=impedance_description,\n",
    "    sample_baseplate_hight=0.01,\n",
    "    sample_diameter=sample_diameter,\n",
    "    sample_shape=m2s.input.SampleShape.ROUND,\n",
    "    bc_mapping=bcm,\n",
    ")\n",
    "mesh = trimesh.load(reference_path)\n",
    "\n",
    "mesh_reference = m2s.input.SampleMesh(\n",
    "    mesh=mesh,\n",
    "    surface_description=reference_description,\n",
    "    sample_baseplate_hight=0.01,\n",
    "    sample_diameter=sample_diameter,\n",
    "    sample_shape=m2s.input.SampleShape.ROUND,\n",
    ")\n"
   ]
  },
  {
   "cell_type": "markdown",
   "metadata": {},
   "source": [
    "Now we can add put the source positions into the correct class formate. We will define Plane waves."
   ]
  },
  {
   "cell_type": "code",
   "execution_count": null,
   "metadata": {},
   "outputs": [],
   "source": [
    "plane_wave_direction = sourcePoints.copy()\n",
    "plane_wave_direction.cartesian *= -1\n",
    "sound_sources = m2s.input.SoundSource(\n",
    "    source_coordinates=plane_wave_direction,\n",
    "    source_type=m2s.input.SoundSourceType.PLANE_WAVE,\n",
    ")"
   ]
  },
  {
   "attachments": {},
   "cell_type": "markdown",
   "metadata": {},
   "source": [
    "let's plot the scene"
   ]
  },
  {
   "cell_type": "code",
   "execution_count": null,
   "metadata": {},
   "outputs": [],
   "source": [
    "sample = trimesh.load_mesh(sample_path).vertices\n",
    "sample_coords = pf.Coordinates(sample[:, 0],sample[:, 1],sample[:, 2])\n",
    "plt.figure()\n",
    "ax = pf.plot.scatter(receiverPoints, s=1/20)\n",
    "pf.plot.scatter(sourcePoints, ax=ax)\n",
    "pf.plot.scatter(sample_coords, ax=ax, s=1/72)\n"
   ]
  },
  {
   "attachments": {},
   "cell_type": "markdown",
   "metadata": {},
   "source": [
    "Now we can create the project. Please notice that the project was already created and simulated for demo."
   ]
  },
  {
   "cell_type": "code",
   "execution_count": null,
   "metadata": {},
   "outputs": [],
   "source": [
    "m2s.input.write_scattering_project_numcalc(\n",
    "    project_path=os.path.join(project_path, 'impedance'),\n",
    "    project_title='impedance',\n",
    "    frequencies=frequencies,\n",
    "    sound_sources=sound_sources,\n",
    "    evaluation_grids=[evaluation_grid],\n",
    "    sample_mesh=mesh_impedance,\n",
    "    )\n",
    "m2s.input.write_scattering_project_numcalc(\n",
    "    project_path=os.path.join(project_path, 'reference'),\n",
    "    project_title='reference',\n",
    "    frequencies=frequencies,\n",
    "    sound_sources=sound_sources,\n",
    "    evaluation_grids=[evaluation_grid],\n",
    "    sample_mesh=mesh_reference,\n",
    "    )"
   ]
  },
  {
   "attachments": {},
   "cell_type": "markdown",
   "metadata": {},
   "source": [
    "# run project\n",
    "To execute the project you need to build the ``NumCalc`` project. If you use Windows, the exe can be directly downloaded and on mac or linux it can be build, see the function documentation for more information."
   ]
  },
  {
   "cell_type": "code",
   "execution_count": null,
   "metadata": {},
   "outputs": [],
   "source": [
    "numcalc_path = m2s.numcalc.build_or_fetch_numcalc()"
   ]
  },
  {
   "attachments": {},
   "cell_type": "markdown",
   "metadata": {},
   "source": [
    "Now we can run the simulation, this may take some time. This example is already simulated so we don't need to wait. If we don't explicitly define then ``numcalc_path`` it will use ``m2s.numcalc.build_or_fetch_numcalc()`` in the background to determine the numcalc_path."
   ]
  },
  {
   "cell_type": "code",
   "execution_count": null,
   "metadata": {},
   "outputs": [],
   "source": [
    "m2s.numcalc.manage_numcalc(\n",
    "    os.path.join(os.getcwd(), project_path), wait_time=1)"
   ]
  },
  {
   "attachments": {},
   "cell_type": "markdown",
   "metadata": {},
   "source": [
    "# Post processing\n",
    "Now we need to create the scattering pattern sofa files out of the simulation results. We are basically just writing the results into a dedicated sofa file."
   ]
  },
  {
   "cell_type": "code",
   "execution_count": null,
   "metadata": {},
   "outputs": [],
   "source": [
    "m2s.output.write_pressure(os.path.join(project_path, 'impedance'))\n",
    "m2s.output.write_pressure(os.path.join(project_path, 'reference'))"
   ]
  },
  {
   "attachments": {},
   "cell_type": "markdown",
   "metadata": {},
   "source": [
    "# Read and plot data\n",
    "lets read the the sofa files with sofar and pyfar."
   ]
  },
  {
   "cell_type": "code",
   "execution_count": null,
   "metadata": {},
   "outputs": [],
   "source": [
    "# calculate r_spec after Mommertz\n",
    "p_1_sofa = sf.read_sofa(\n",
    "    os.path.join(project_path, 'impedance_grid.pressure.sofa'))\n",
    "p_2_sofa =sf.read_sofa(\n",
    "    os.path.join(project_path, 'reference_grid.pressure.sofa'))\n",
    "pressure_1, _, _ = pf.io.convert_sofa(p_1_sofa)\n",
    "pressure_0, sources, receivers = pf.io.convert_sofa(p_2_sofa)\n",
    "sources.weights = p_1_sofa.SourceWeights\n",
    "receivers.weights = p_1_sofa.ReceiverWeights\n"
   ]
  },
  {
   "cell_type": "markdown",
   "metadata": {},
   "source": [
    "Now we can calculate the reflection factor after Mommertz:\n",
    "\n",
    "$r_{spec}=\\frac{\\sum_{i=1}^n p_1(\\vartheta_R, \\varphi_R) p_0^*(\\vartheta_R, \\varphi_R) w_i}{\\sum_{i=1}^n |p_0^(\\vartheta_R, \\varphi_R) w_i|^2}$"
   ]
  },
  {
   "cell_type": "code",
   "execution_count": null,
   "metadata": {},
   "outputs": [],
   "source": [
    "weights = receivers.weights[..., np.newaxis]\n",
    "p_corr = np.sum(pressure_1.freq*np.conj(pressure_0.freq)*weights, axis=-2)\n",
    "p_0_sq = np.sum(pressure_0.freq**2 * weights, axis=-2)\n",
    "r_spec = pf.FrequencyData(p_corr / p_0_sq, pressure_0.frequencies)\n",
    "r_analytical = pf.FrequencyData(\n",
    "    np.ones_like(pressure_0.frequencies)*R, pressure_0.frequencies)\n"
   ]
  },
  {
   "cell_type": "markdown",
   "metadata": {},
   "source": [
    "Lets have a look at the results, first we compare the normal incidence result with our analytically expected one."
   ]
  },
  {
   "cell_type": "code",
   "execution_count": null,
   "metadata": {},
   "outputs": [],
   "source": [
    "\n",
    "plt.figure()\n",
    "pf.plot.freq_phase(r_spec[0], dB=False, label='r_spec normal incidence')\n",
    "ax = pf.plot.freq_phase(\n",
    "    r_analytical, dB=False, label='analytical normal incidence')\n",
    "ax[0].set_ylim(0, 1.1)\n",
    "ax[0].set_ylabel('Reflection factor (normal)')\n",
    "plt.show()\n"
   ]
  },
  {
   "cell_type": "markdown",
   "metadata": {},
   "source": [
    "Furthermore, we can use the oblique incident angles and calculate reflection factor at normal incidence."
   ]
  },
  {
   "cell_type": "code",
   "execution_count": null,
   "metadata": {},
   "outputs": [],
   "source": [
    "theta = sources.colatitude\n",
    "plt.figure()\n",
    "Z_theta = 1//np.cos(theta)*(1 + r_spec)/(1 - r_spec)\n",
    "r_normal = (Z_theta*np.cos(theta) - 1)/(Z_theta*np.cos(theta) + 1)\n",
    "pf.plot.freq(\n",
    "    r_normal, dB=False,\n",
    "    label='r_spec normal incidence')\n"
   ]
  }
 ],
 "metadata": {
  "kernelspec": {
   "display_name": "mesh2scattering",
   "language": "python",
   "name": "python3"
  },
  "language_info": {
   "codemirror_mode": {
    "name": "ipython",
    "version": 3
   },
   "file_extension": ".py",
   "mimetype": "text/x-python",
   "name": "python",
   "nbconvert_exporter": "python",
   "pygments_lexer": "ipython3",
   "version": "3.13.2"
  },
  "orig_nbformat": 4,
  "vscode": {
   "interpreter": {
    "hash": "dfa74d76a0d805b005e2cbe22d9775ef39696d41c30b2650adcc71f4f4f15eed"
   }
  }
 },
 "nbformat": 4,
 "nbformat_minor": 2
}
